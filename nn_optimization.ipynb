{
 "cells": [
  {
   "cell_type": "markdown",
   "metadata": {},
   "source": [
    "### SW installation instructions\n",
    "\n",
    "To follow this notebook you have to be able to run Jupyter notebooks on your PC as well as have installed version 0.19 of scikit-learn and 2.1 of keras.\n",
    "\n",
    "The simplest way of doing so is to download and install the Miniconda distribution from \n",
    "\n",
    "    https://conda.io/miniconda.html \n",
    "\n",
    "and then use the command `conda install` to add the `ìpython, scikit-learn` and `keras` packages.\n",
    "\n",
    "A convenient alternative for Windows is the WinPython distribution https://winpython.github.io/."
   ]
  },
  {
   "cell_type": "markdown",
   "metadata": {},
   "source": [
    "# Optimization on NNs\n",
    "\n",
    "1. Batch vs minibatch: lbfgs vs adam in sklearn\n",
    "2. Performance of keras optimizers\n",
    "3. DNNs do not overfit: train vs validation in keras\n",
    "\n",
    "## 1. Batch vs minibatch: lbfgs vs adam in sklearn\n",
    "\n",
    "We will work with the housing dataset obtained from sklearn."
   ]
  },
  {
   "cell_type": "code",
   "execution_count": 1,
   "metadata": {},
   "outputs": [],
   "source": [
    "%matplotlib inline\n",
    "%load_ext autoreload\n",
    "%autoreload 2"
   ]
  },
  {
   "cell_type": "code",
   "execution_count": 2,
   "metadata": {},
   "outputs": [],
   "source": [
    "import numpy as np\n",
    "import matplotlib.pyplot as plt\n",
    "import pandas as pd\n",
    "import time\n",
    "\n",
    "import seaborn as sns\n",
    "\n",
    "from sklearn.preprocessing import StandardScaler\n",
    "from sklearn.neural_network import MLPRegressor\n",
    "from sklearn.metrics import mean_squared_error\n",
    "\n",
    "from sklearn.datasets import load_boston"
   ]
  },
  {
   "cell_type": "code",
   "execution_count": 3,
   "metadata": {},
   "outputs": [],
   "source": [
    "boston_data = load_boston()\n",
    "\n",
    "df_housing = pd.DataFrame(data=boston_data['data'], columns=boston_data['feature_names'])\n",
    "df_housing['MEDV'] = boston_data['target']\n",
    "\n",
    "vars   = df_housing.columns[ : -1]\n",
    "target = df_housing.columns[-1]\n",
    "\n",
    "std_sc = StandardScaler()\n",
    "\n",
    "x = std_sc.fit_transform( df_housing[ vars ].values )\n",
    "y = df_housing[ target ].values\n",
    "\n",
    "n_patterns, dim = x.shape"
   ]
  },
  {
   "cell_type": "code",
   "execution_count": 4,
   "metadata": {},
   "outputs": [],
   "source": [
    "hidden_layer_sizes = (40, 20)\n",
    "alpha_S = 100.\n",
    "tol = y.std() * 1.e-6\n",
    "\n",
    "mlp_s =  MLPRegressor(hidden_layer_sizes=hidden_layer_sizes, \n",
    "                      alpha=alpha_S,\n",
    "                      activation='relu', \n",
    "                      solver='lbfgs', \n",
    "                      #batch_size=batch_size,\n",
    "                      tol=tol, \n",
    "                      max_iter=10000,\n",
    "                      early_stopping=False)\n",
    "\n",
    "t0 = time.time()\n",
    "mlp_s.fit(x, y)\n",
    "t1 = time.time()"
   ]
  },
  {
   "cell_type": "code",
   "execution_count": 5,
   "metadata": {},
   "outputs": [
    {
     "name": "stdout",
     "output_type": "stream",
     "text": [
      "lbfgs_iters \t2215\n",
      "lbfgs_loss  \t5.963\n",
      "train_time  \t7.4604\n",
      "lbfgs_test_loss: 5.184\n"
     ]
    }
   ],
   "source": [
    "print(\"lbfgs_iters \\t%d\" % mlp_s.n_iter_)\n",
    "print(\"lbfgs_loss  \\t%.3f\" % mlp_s.loss_)\n",
    "print(\"train_time  \\t%.4f\" % (t1-t0))\n",
    "\n",
    "y_pred = mlp_s.predict(x)\n",
    "print(\"lbfgs_test_loss: %.3f\" % (mean_squared_error(y, y_pred)))"
   ]
  },
  {
   "cell_type": "code",
   "execution_count": 6,
   "metadata": {},
   "outputs": [],
   "source": [
    "batch_size = n_patterns\n",
    "batch_size = 200\n",
    "tol = y.var() * 1.e-6\n",
    "\n",
    "mlp_s =  MLPRegressor(hidden_layer_sizes=hidden_layer_sizes, \n",
    "                      alpha=alpha_S,\n",
    "                      activation='relu', \n",
    "                      solver='adam', \n",
    "                      #nesterovs_momentum=False,\n",
    "                      batch_size=batch_size,\n",
    "                      tol=tol*1.e-3, \n",
    "                      max_iter=20000,\n",
    "                      early_stopping=False)\n",
    "\n",
    "t0 = time.time()\n",
    "mlp_s.fit(x, y)\n",
    "t1 = time.time()"
   ]
  },
  {
   "cell_type": "code",
   "execution_count": 7,
   "metadata": {},
   "outputs": [
    {
     "name": "stdout",
     "output_type": "stream",
     "text": [
      "adam_iters \t641\n",
      "adam_loss  \t11.733\n",
      "train_time \t2.8492\n",
      "adam_test_loss: 10.808\n"
     ]
    }
   ],
   "source": [
    "print(\"adam_iters \\t%d\" % mlp_s.n_iter_)\n",
    "print(\"adam_loss  \\t%.3f\" % mlp_s.loss_)\n",
    "print(\"train_time \\t%.4f\" % (t1-t0))\n",
    "\n",
    "y_pred = mlp_s.predict(x)\n",
    "print(\"adam_test_loss: %.3f\" % (mean_squared_error(y, y_pred)))"
   ]
  },
  {
   "cell_type": "code",
   "execution_count": 8,
   "metadata": {},
   "outputs": [
    {
     "data": {
      "image/png": "[encoded data removed]",
      "text/plain": [
       "<matplotlib.figure.Figure at 0x1e3160bda90>"
      ]
     },
     "metadata": {},
     "output_type": "display_data"
    }
   ],
   "source": [
    "plt.figure( figsize=(7,5))\n",
    "plt.title(\"skl_adam_loss_curve\")\n",
    "plt.xscale('log')\n",
    "plt.yscale('log')\n",
    "_ = plt.plot(mlp_s.loss_curve_)"
   ]
  },
  {
   "cell_type": "markdown",
   "metadata": {},
   "source": [
    "## 2. Performance of keras optimizers\n",
    "\n",
    "3. DNNs do not overfit: train vs validation in keras\n"
   ]
  },
  {
   "cell_type": "code",
   "execution_count": 9,
   "metadata": {},
   "outputs": [
    {
     "name": "stderr",
     "output_type": "stream",
     "text": [
      "C:\\Users\\Usuario\\Anaconda3\\lib\\site-packages\\h5py\\__init__.py:36: FutureWarning: Conversion of the second argument of issubdtype from `float` to `np.floating` is deprecated. In future, it will be treated as `np.float64 == np.dtype(float).type`.\n",
      "  from ._conv import register_converters as _register_converters\n",
      "Using TensorFlow backend.\n"
     ]
    }
   ],
   "source": [
    "from keras.models import Sequential, Model\n",
    "from keras.layers import Dense, Activation, Input\n",
    "from keras.regularizers import l2\n",
    "from keras.optimizers import SGD, RMSprop, Adagrad, Adadelta, Adam, Nadam, Adamax\n",
    "from keras.callbacks import EarlyStopping, History\n",
    "\n",
    "import keras.backend as K"
   ]
  },
  {
   "cell_type": "code",
   "execution_count": 10,
   "metadata": {},
   "outputs": [
    {
     "name": "stdout",
     "output_type": "stream",
     "text": [
      "_________________________________________________________________\n",
      "Layer (type)                 Output Shape              Param #   \n",
      "=================================================================\n",
      "input_1 (InputLayer)         (None, 13)                0         \n",
      "_________________________________________________________________\n",
      "dense_1 (Dense)              (None, 40)                560       \n",
      "_________________________________________________________________\n",
      "dense_2 (Dense)              (None, 20)                820       \n",
      "_________________________________________________________________\n",
      "ls_output (Dense)            (None, 1)                 21        \n",
      "=================================================================\n",
      "Total params: 1,401\n",
      "Trainable params: 1,401\n",
      "Non-trainable params: 0\n",
      "_________________________________________________________________\n",
      "None\n"
     ]
    }
   ],
   "source": [
    "alpha_K = alpha_S/n_patterns/2.\n",
    "\n",
    "# input\n",
    "main_input = Input(shape=(dim, ))\n",
    "\n",
    "# layers\n",
    "z = main_input\n",
    "for i, num_hidden in enumerate(hidden_layer_sizes):\n",
    "    layer = Dense(num_hidden, kernel_initializer=\"he_uniform\", \n",
    "                  activation='relu', \n",
    "                  kernel_regularizer=l2(alpha_K))\n",
    "                  #kernel_regularizer=l2(alpha))\n",
    "    z = layer(z)\n",
    "\n",
    "# output    \n",
    "ls_layer = Dense(units=1,\n",
    "                 activation='linear', \n",
    "                 #kernel_initializer=\"glorot_uniform\", \n",
    "                 kernel_initializer=\"he_uniform\", \n",
    "                 kernel_regularizer=l2(alpha_K),\n",
    "                 name='ls_output')\n",
    "ls_output = ls_layer(z)\n",
    "\n",
    "# compile\n",
    "mlp_k = Model(inputs=[main_input], outputs=[ls_output])\n",
    "\n",
    "print(mlp_k.summary())"
   ]
  },
  {
   "cell_type": "code",
   "execution_count": 11,
   "metadata": {},
   "outputs": [
    {
     "name": "stdout",
     "output_type": "stream",
     "text": [
      "\n",
      " <keras.optimizers.Adadelta object at 0x000001E319704F98>\n",
      "\titers \t690\n",
      "\tloss  \t10.865\n",
      "\ttest_loss  \t10.756\n",
      "\ttrain_time \t10.7383\n",
      "\n",
      " <keras.optimizers.Adagrad object at 0x000001E319704FD0>\n",
      "\titers \t6902\n",
      "\tloss  \t11.266\n",
      "\ttest_loss  \t11.259\n",
      "\ttrain_time \t60.3568\n",
      "\n",
      " <keras.optimizers.Adam object at 0x000001E3194F13C8>\n",
      "\titers \t1562\n",
      "\tloss  \t9.617\n",
      "\ttest_loss  \t9.593\n",
      "\ttrain_time \t15.2853\n",
      "\n",
      " <keras.optimizers.Nadam object at 0x000001E3194F1400>\n",
      "\titers \t928\n",
      "\tloss  \t10.455\n",
      "\ttest_loss  \t10.444\n",
      "\ttrain_time \t15.4540\n"
     ]
    }
   ],
   "source": [
    "def reset_weights(model):\n",
    "    session = K.get_session()\n",
    "    for layer in model.layers: \n",
    "        if hasattr(layer, 'kernel_initializer'):\n",
    "            layer.kernel.initializer.run(session=session)\n",
    "\n",
    "tol = y.var() * 1.e-6            \n",
    "callbacks = [History(), \n",
    "             EarlyStopping(monitor='loss',\n",
    "                    min_delta=tol, \n",
    "                    patience=10)\n",
    "            ]        \n",
    "d_h = {}\n",
    "for k, optimizer in enumerate([Adadelta(), Adagrad(), Adam(), Nadam()]):\n",
    "    t0 = time.time()\n",
    "    reset_weights(mlp_k)\n",
    "    mlp_k.compile(optimizer=optimizer, loss={'ls_output': 'mean_squared_error'})\n",
    "    mlp_k.fit(x, y, \n",
    "              epochs=10000,\n",
    "              batch_size=batch_size,\n",
    "              callbacks=callbacks,\n",
    "              shuffle=True,\n",
    "              verbose=0)\n",
    "    t1 = time.time()    \n",
    "    \n",
    "    d_h[k] = mlp_k.history.history['loss']\n",
    "    \n",
    "    print(\"\\n\", optimizer)\n",
    "    print(\"\\titers \\t%d\" % len(mlp_k.history.history['loss']))\n",
    "    print(\"\\tloss  \\t%.3f\" % mlp_k.history.history['loss'][-1])\n",
    "    print(\"\\ttest_loss  \\t%.3f\" % mlp_k.evaluate(x, y, verbose=0))\n",
    "    print(\"\\ttrain_time \\t%.4f\" % (t1-t0))"
   ]
  },
  {
   "cell_type": "code",
   "execution_count": 12,
   "metadata": {},
   "outputs": [
    {
     "data": {
      "image/png": "[encoded data removed]",
      "text/plain": [
       "<matplotlib.figure.Figure at 0x1e3195f2d68>"
      ]
     },
     "metadata": {},
     "output_type": "display_data"
    }
   ],
   "source": [
    "plt.figure( figsize=(7,5))\n",
    "plt.title(\"keras_loss_curves\")\n",
    "\n",
    "l_colors = ['b', 'g', 'r', 'y']\n",
    "l_labels = ['Adadelta', 'Adagrad', 'Adam', 'Nadam']\n",
    "\n",
    "for k, c, l in zip( d_h.keys(), l_colors, l_labels):\n",
    "    plt.xscale('log')\n",
    "    plt.yscale('log')\n",
    "    plt.plot(d_h[k], color=c, label=l)\n",
    "\n",
    "plt.legend(loc='best')\n",
    "plt.show()"
   ]
  },
  {
   "cell_type": "markdown",
   "metadata": {},
   "source": [
    "## 3. DNNs do not overfit: train vs validation in keras"
   ]
  },
  {
   "cell_type": "code",
   "execution_count": 13,
   "metadata": {},
   "outputs": [
    {
     "data": {
      "text/plain": [
       "<keras.callbacks.History at 0x1e31d1f6cc0>"
      ]
     },
     "execution_count": 13,
     "metadata": {},
     "output_type": "execute_result"
    }
   ],
   "source": [
    "idx = np.array(range(n_patterns))\n",
    "\n",
    "np.random.shuffle(idx) \n",
    "\n",
    "idx_1 = idx[ : n_patterns//2]\n",
    "idx_2 = idx[n_patterns//2 : ]\n",
    "x_1 = x[idx_1, : ]\n",
    "y_1 = y[idx_1]\n",
    "\n",
    "x_2 = x[idx_2, : ]\n",
    "y_2 = y[idx_2]\n",
    "\n",
    "reset_weights(mlp_k)\n",
    "mlp_k.compile(optimizer=Adam(), loss={'ls_output': 'mean_squared_error'})\n",
    "mlp_k.fit(x_1, y_1, \n",
    "              epochs=10000,\n",
    "              #batch_size=batch_size,\n",
    "              batch_size=50,\n",
    "              callbacks=callbacks,\n",
    "              shuffle=True,\n",
    "              validation_data=[x_2, y_2], \n",
    "              verbose=0)"
   ]
  },
  {
   "cell_type": "code",
   "execution_count": 14,
   "metadata": {},
   "outputs": [
    {
     "data": {
      "image/png": "[encoded data removed]",
      "text/plain": [
       "<matplotlib.figure.Figure at 0x1e31d1e3dd8>"
      ]
     },
     "metadata": {},
     "output_type": "display_data"
    }
   ],
   "source": [
    "plt.figure( figsize=(7,5))\n",
    "plt.title(\"train_vs_val_loss\")\n",
    "\n",
    "#plt.xscale('log')\n",
    "plt.yscale('log')\n",
    "\n",
    "_ = plt.plot(mlp_k.history.history['loss'], 'b', mlp_k.history.history['val_loss'], 'r')"
   ]
  }
 ],
 "metadata": {
  "kernelspec": {
   "display_name": "Python 3",
   "language": "python",
   "name": "python3"
  },
  "language_info": {
   "codemirror_mode": {
    "name": "ipython",
    "version": 3
   },
   "file_extension": ".py",
   "mimetype": "text/x-python",
   "name": "python",
   "nbconvert_exporter": "python",
   "pygments_lexer": "ipython3",
   "version": "3.6.3"
  }
 },
 "nbformat": 4,
 "nbformat_minor": 2
}
